{
  "nbformat": 4,
  "nbformat_minor": 0,
  "metadata": {
    "colab": {
      "provenance": [],
      "authorship_tag": "ABX9TyM3rdliH1G9XorTLE/SUztt",
      "include_colab_link": true
    },
    "kernelspec": {
      "name": "python3",
      "display_name": "Python 3"
    },
    "language_info": {
      "name": "python"
    }
  },
  "cells": [
    {
      "cell_type": "markdown",
      "metadata": {
        "id": "view-in-github",
        "colab_type": "text"
      },
      "source": [
        "<a href=\"https://colab.research.google.com/github/brunoma-cpu/Ejercicios-Python/blob/main/Clase1.ipynb\" target=\"_parent\"><img src=\"https://colab.research.google.com/assets/colab-badge.svg\" alt=\"Open In Colab\"/></a>"
      ]
    },
    {
      "cell_type": "code",
      "execution_count": null,
      "metadata": {
        "id": "a0_Z4j8c7u3S"
      },
      "outputs": [],
      "source": []
    },
    {
      "cell_type": "markdown",
      "source": [],
      "metadata": {
        "id": "d1_GOKhW81XE"
      }
    },
    {
      "cell_type": "markdown",
      "source": [
        "La ecuación de la **recta es**\n",
        "\\begin{equation}\n",
        "  y=mx+b\n",
        "\\end{equation}\n",
        "m es la pendiente"
      ],
      "metadata": {
        "id": "WwHynZ2g8LAp"
      }
    },
    {
      "cell_type": "code",
      "source": [],
      "metadata": {
        "id": "b9rMKI8G82VM"
      },
      "execution_count": null,
      "outputs": []
    },
    {
      "cell_type": "markdown",
      "source": [
        "# Variables en Phython\n",
        "\n",
        "#Introducción"
      ],
      "metadata": {
        "id": "PdE4WsJK8hgo"
      }
    }
  ]
}