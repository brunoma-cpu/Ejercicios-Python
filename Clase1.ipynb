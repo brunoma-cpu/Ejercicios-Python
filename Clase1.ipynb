{
  "nbformat": 4,
  "nbformat_minor": 0,
  "metadata": {
    "colab": {
      "provenance": [],
      "authorship_tag": "ABX9TyNvMZzSwsFFIZwrdLa4VsVM",
      "include_colab_link": true
    },
    "kernelspec": {
      "name": "python3",
      "display_name": "Python 3"
    },
    "language_info": {
      "name": "python"
    }
  },
  "cells": [
    {
      "cell_type": "markdown",
      "metadata": {
        "id": "view-in-github",
        "colab_type": "text"
      },
      "source": [
        "<a href=\"https://colab.research.google.com/github/brunoma-cpu/Ejercicios-Python/blob/main/Clase1.ipynb\" target=\"_parent\"><img src=\"https://colab.research.google.com/assets/colab-badge.svg\" alt=\"Open In Colab\"/></a>"
      ]
    },
    {
      "cell_type": "code",
      "execution_count": null,
      "metadata": {
        "id": "a0_Z4j8c7u3S"
      },
      "outputs": [],
      "source": []
    },
    {
      "cell_type": "markdown",
      "source": [],
      "metadata": {
        "id": "d1_GOKhW81XE"
      }
    },
    {
      "cell_type": "markdown",
      "source": [
        "La ecuación de la **recta es**\n",
        "\\begin{equation}\n",
        "  y=mx+b\n",
        "\\end{equation}\n",
        "m es la pendiente"
      ],
      "metadata": {
        "id": "WwHynZ2g8LAp"
      }
    },
    {
      "cell_type": "markdown",
      "source": [
        "# Variables en Phython\n",
        "\n",
        "#Introducción"
      ],
      "metadata": {
        "id": "PdE4WsJK8hgo"
      }
    },
    {
      "cell_type": "code",
      "source": [
        "a=1 #variable entera\n",
        "b=3.14 #variable de punto flotante (con decimales)\n",
        "c=\"Hola mundo\" #variable tipo cadena (string)\n",
        "print(a,b,c) #imprimir en planta las variables y el texto"
      ],
      "metadata": {
        "colab": {
          "base_uri": "https://localhost:8080/"
        },
        "id": "b9rMKI8G82VM",
        "outputId": "b2da6890-c073-4331-cd79-edf9b9efbea5"
      },
      "execution_count": 3,
      "outputs": [
        {
          "output_type": "stream",
          "name": "stdout",
          "text": [
            "1 3.14 Hola mundo\n"
          ]
        }
      ]
    },
    {
      "cell_type": "code",
      "source": [
        "x=str(3)\n",
        "y=int(3)\n",
        "z=float(3)\n",
        "print(x,y,z)"
      ],
      "metadata": {
        "colab": {
          "base_uri": "https://localhost:8080/"
        },
        "id": "4sOXOJxDAqUz",
        "outputId": "c094ada4-e1e7-48fa-886d-e4ca929d9f2d"
      },
      "execution_count": 4,
      "outputs": [
        {
          "output_type": "stream",
          "name": "stdout",
          "text": [
            "3 3 3.0\n"
          ]
        }
      ]
    },
    {
      "cell_type": "code",
      "source": [
        "print(type(x),type(y),type(z))"
      ],
      "metadata": {
        "colab": {
          "base_uri": "https://localhost:8080/"
        },
        "id": "OEeNheN2BBhj",
        "outputId": "c5c917fc-c912-44c2-fa17-98b1421f5875"
      },
      "execution_count": 5,
      "outputs": [
        {
          "output_type": "stream",
          "name": "stdout",
          "text": [
            "<class 'str'> <class 'int'> <class 'float'>\n"
          ]
        }
      ]
    },
    {
      "cell_type": "code",
      "source": [
        "#cadenas\n",
        "p=\"bruno\"\n",
        "q='bruno'\n",
        "print(p,q)"
      ],
      "metadata": {
        "colab": {
          "base_uri": "https://localhost:8080/"
        },
        "id": "E2wKbp9QCVHc",
        "outputId": "7e4089eb-0b44-4db4-b291-0187de7354aa"
      },
      "execution_count": 6,
      "outputs": [
        {
          "output_type": "stream",
          "name": "stdout",
          "text": [
            "bruno bruno\n"
          ]
        }
      ]
    },
    {
      "cell_type": "code",
      "source": [
        "m=7.4\n",
        "M=\"Bruno\"\n",
        "print(m,M)"
      ],
      "metadata": {
        "colab": {
          "base_uri": "https://localhost:8080/"
        },
        "id": "Zel00G3UC0RE",
        "outputId": "7d26c616-ea30-488b-df5e-8b62d3956c49"
      },
      "execution_count": 8,
      "outputs": [
        {
          "output_type": "stream",
          "name": "stdout",
          "text": [
            "7.4 Bruno\n"
          ]
        }
      ]
    },
    {
      "cell_type": "code",
      "source": [
        "x,y,z = \"orange\", \"mango\", \"piña\"\n",
        "print(x,y,z)"
      ],
      "metadata": {
        "colab": {
          "base_uri": "https://localhost:8080/"
        },
        "id": "Z7-UFWN6ECzX",
        "outputId": "2ae5b575-e95f-4d77-a77a-cb61abed19a1"
      },
      "execution_count": 9,
      "outputs": [
        {
          "output_type": "stream",
          "name": "stdout",
          "text": [
            "orange mango piña\n"
          ]
        }
      ]
    },
    {
      "cell_type": "code",
      "source": [
        "#calcular el area del triangulo\n",
        "# area (A), base(b), altura (h)\n",
        "b=15 #b es la base del triangulo\n",
        "h=20 #h es la altura del triangulo\n",
        "A=b*h/2\n",
        "print('El área del triangulo es:',A,'unidades cuadradas') #imprimpo resultado"
      ],
      "metadata": {
        "colab": {
          "base_uri": "https://localhost:8080/"
        },
        "id": "FL2oXVJQEVf1",
        "outputId": "46b5e0c1-c774-4f14-cd7a-4171575e327f"
      },
      "execution_count": 11,
      "outputs": [
        {
          "output_type": "stream",
          "name": "stdout",
          "text": [
            "El área del triangulo es: 150.0 unidades cuadradas\n"
          ]
        }
      ]
    },
    {
      "cell_type": "markdown",
      "source": [
        "#Operadores aritmeticos"
      ],
      "metadata": {
        "id": "gUWv49MEFreX"
      }
    },
    {
      "cell_type": "code",
      "source": [
        "15/4"
      ],
      "metadata": {
        "colab": {
          "base_uri": "https://localhost:8080/"
        },
        "id": "PbIkl-xUF-cb",
        "outputId": "3e4339bb-a4fc-42c1-c2a4-4987ace3e93d"
      },
      "execution_count": 12,
      "outputs": [
        {
          "output_type": "execute_result",
          "data": {
            "text/plain": [
              "3.75"
            ]
          },
          "metadata": {},
          "execution_count": 12
        }
      ]
    },
    {
      "cell_type": "code",
      "source": [
        "15//4"
      ],
      "metadata": {
        "colab": {
          "base_uri": "https://localhost:8080/"
        },
        "id": "jel_tZ_1GA5j",
        "outputId": "af61cf81-5892-4ae2-a7ba-b71c9bd7afca"
      },
      "execution_count": 13,
      "outputs": [
        {
          "output_type": "execute_result",
          "data": {
            "text/plain": [
              "3"
            ]
          },
          "metadata": {},
          "execution_count": 13
        }
      ]
    },
    {
      "cell_type": "code",
      "source": [
        "2**4"
      ],
      "metadata": {
        "colab": {
          "base_uri": "https://localhost:8080/"
        },
        "id": "iOLc6n28GCQL",
        "outputId": "78e0bb63-f346-43cd-9e7a-753601b5d4d0"
      },
      "execution_count": 14,
      "outputs": [
        {
          "output_type": "execute_result",
          "data": {
            "text/plain": [
              "16"
            ]
          },
          "metadata": {},
          "execution_count": 14
        }
      ]
    },
    {
      "cell_type": "code",
      "source": [
        "suma=13+19.5\n",
        "suma"
      ],
      "metadata": {
        "colab": {
          "base_uri": "https://localhost:8080/"
        },
        "id": "vDCMSfKaGIy7",
        "outputId": "0fb4e8c7-5147-4baf-94c3-6134a4388d8c"
      },
      "execution_count": 16,
      "outputs": [
        {
          "output_type": "execute_result",
          "data": {
            "text/plain": [
              "32.5"
            ]
          },
          "metadata": {},
          "execution_count": 16
        }
      ]
    },
    {
      "cell_type": "code",
      "source": [
        "resta=9-15.5\n",
        "resta"
      ],
      "metadata": {
        "colab": {
          "base_uri": "https://localhost:8080/"
        },
        "id": "Dxy2ekvNGQAa",
        "outputId": "4b38ee33-d859-4aa4-c0c0-046a6371c0c1"
      },
      "execution_count": 17,
      "outputs": [
        {
          "output_type": "execute_result",
          "data": {
            "text/plain": [
              "-6.5"
            ]
          },
          "metadata": {},
          "execution_count": 17
        }
      ]
    },
    {
      "cell_type": "code",
      "source": [
        "mult=12*15\n",
        "mult"
      ],
      "metadata": {
        "colab": {
          "base_uri": "https://localhost:8080/"
        },
        "id": "hCQK4z0mGVop",
        "outputId": "69dc18a7-f9e2-4b7b-e0b5-f86a2ed2f750"
      },
      "execution_count": 18,
      "outputs": [
        {
          "output_type": "execute_result",
          "data": {
            "text/plain": [
              "180"
            ]
          },
          "metadata": {},
          "execution_count": 18
        }
      ]
    },
    {
      "cell_type": "code",
      "source": [
        "divide=17/3\n",
        "divide"
      ],
      "metadata": {
        "colab": {
          "base_uri": "https://localhost:8080/"
        },
        "id": "FVZ4HVI8GZP5",
        "outputId": "83e2b44c-cd25-4776-fad3-e61de3b5df5f"
      },
      "execution_count": 19,
      "outputs": [
        {
          "output_type": "execute_result",
          "data": {
            "text/plain": [
              "5.666666666666667"
            ]
          },
          "metadata": {},
          "execution_count": 19
        }
      ]
    },
    {
      "cell_type": "code",
      "source": [
        "a=5**8\n",
        "a"
      ],
      "metadata": {
        "colab": {
          "base_uri": "https://localhost:8080/"
        },
        "id": "6Y0ivWQJGeLZ",
        "outputId": "efec9ae4-4790-4ade-83dc-35bf307aafb1"
      },
      "execution_count": 27,
      "outputs": [
        {
          "output_type": "execute_result",
          "data": {
            "text/plain": [
              "390625"
            ]
          },
          "metadata": {},
          "execution_count": 27
        }
      ]
    },
    {
      "cell_type": "code",
      "source": [
        "25**(1/2) #raiz cuadrada"
      ],
      "metadata": {
        "colab": {
          "base_uri": "https://localhost:8080/"
        },
        "id": "mLTGFOA3GiKR",
        "outputId": "132ec095-5483-4a77-fa0d-ca98b437b14b"
      },
      "execution_count": 26,
      "outputs": [
        {
          "output_type": "execute_result",
          "data": {
            "text/plain": [
              "5.0"
            ]
          },
          "metadata": {},
          "execution_count": 26
        }
      ]
    },
    {
      "cell_type": "code",
      "source": [
        "#palabras reservadas de Python (no se pueden ocupar como variables)\n",
        "import keyword\n",
        "print(keyword.kwlist)"
      ],
      "metadata": {
        "colab": {
          "base_uri": "https://localhost:8080/"
        },
        "id": "yHAsmvcdHdKB",
        "outputId": "1fa5262b-1425-4aab-c343-d64771a60a45"
      },
      "execution_count": 28,
      "outputs": [
        {
          "output_type": "stream",
          "name": "stdout",
          "text": [
            "['False', 'None', 'True', 'and', 'as', 'assert', 'async', 'await', 'break', 'class', 'continue', 'def', 'del', 'elif', 'else', 'except', 'finally', 'for', 'from', 'global', 'if', 'import', 'in', 'is', 'lambda', 'nonlocal', 'not', 'or', 'pass', 'raise', 'return', 'try', 'while', 'with', 'yield']\n"
          ]
        }
      ]
    },
    {
      "cell_type": "code",
      "source": [
        "comp=1.2+5.0j\n",
        "type(comp)\n",
        "print(comp)"
      ],
      "metadata": {
        "colab": {
          "base_uri": "https://localhost:8080/"
        },
        "id": "X5kEg71QHvTg",
        "outputId": "447c2496-f724-4731-dc94-701ddb320e66"
      },
      "execution_count": 32,
      "outputs": [
        {
          "output_type": "stream",
          "name": "stdout",
          "text": [
            "(1.2+5j)\n"
          ]
        }
      ]
    },
    {
      "cell_type": "markdown",
      "source": [
        "#Ejercicio"
      ],
      "metadata": {
        "id": "gvPSy4nMKUP6"
      }
    },
    {
      "cell_type": "code",
      "source": [
        "grad=25 #variable (en celcius)\n",
        "K=grad+273.15 #formula de Kelvin\n",
        "F=(grad*9/5)+32 #formula de Fharenheit\n",
        "R=K*9/5 #formula de Rankine\n",
        "print('La temperatura en Kelvin es:',K) #imprimir el valor de Kelvin\n",
        "print('La temperatura en Fahrenheit es:',F) #imprimir el valor de Fahrenheit\n",
        "print('La temperatura en Rankine es:',R) #imprimir el valor de Rankine"
      ],
      "metadata": {
        "colab": {
          "base_uri": "https://localhost:8080/"
        },
        "id": "1wGbYeNqIJqC",
        "outputId": "041b59b1-08e4-43de-baaa-b583f6203642"
      },
      "execution_count": 37,
      "outputs": [
        {
          "output_type": "stream",
          "name": "stdout",
          "text": [
            "La temperatura en Kelvin es: 298.15\n",
            "La temperatura en Fahrenheit es: 77.0\n",
            "La temperatura en Rankine es: 536.67\n"
          ]
        }
      ]
    }
  ]
}