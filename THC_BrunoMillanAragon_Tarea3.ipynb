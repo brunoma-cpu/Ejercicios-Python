{
  "nbformat": 4,
  "nbformat_minor": 0,
  "metadata": {
    "colab": {
      "provenance": [],
      "authorship_tag": "ABX9TyMQHKj9u8BjYtRSTVnPHIyF",
      "include_colab_link": true
    },
    "kernelspec": {
      "name": "python3",
      "display_name": "Python 3"
    },
    "language_info": {
      "name": "python"
    }
  },
  "cells": [
    {
      "cell_type": "markdown",
      "metadata": {
        "id": "view-in-github",
        "colab_type": "text"
      },
      "source": [
        "<a href=\"https://colab.research.google.com/github/brunoma-cpu/Ejercicios-Python/blob/main/THC_BrunoMillanAragon_Tarea3.ipynb\" target=\"_parent\"><img src=\"https://colab.research.google.com/assets/colab-badge.svg\" alt=\"Open In Colab\"/></a>"
      ]
    },
    {
      "cell_type": "markdown",
      "source": [
        "1.- Diseña un programa que convierta dólares americanos a pesos mexicanos, euros, libras esterlinas, yuanes y rublos utilizando una tasa de cambio fija. Muestre la tasa de cambio e imprima los cinco resultados."
      ],
      "metadata": {
        "id": "EKMZt4YPUO_Y"
      }
    },
    {
      "cell_type": "code",
      "source": [
        "#IngresarLosDatos\n",
        "dol=float(input('Ingrese la cantidad en dólares: $'))\n",
        "#EstablerLaTasaDeCambio\n",
        "DolMx=18.4\n",
        "DolEu=0.85\n",
        "DolLib=0.74\n",
        "DolYua=7.12\n",
        "DolRub=82.22\n",
        "#Operaciones\n",
        "Mx=dol*DolMx\n",
        "Eu=dol*DolEu\n",
        "Lib=dol*DolLib\n",
        "Yua=dol*DolYua\n",
        "Rub=dol*DolRub\n",
        "#MostrarLosResultados\n",
        "print('Con la tasa de cambio de hoy su monto equivale a: ')\n",
        "print('$',Mx,'(Con tasa de',DolMx,')')\n",
        "print('€',Eu,'(Con tasa de',DolEu,')')\n",
        "print('£',Lib,'(Con tasa de',DolLib,')')\n",
        "print('¥',Yua,'(Con tasa de',DolYua,')')\n",
        "print('₽',Rub,'(Con tasa de',DolRub,')')"
      ],
      "metadata": {
        "colab": {
          "base_uri": "https://localhost:8080/"
        },
        "id": "iIEelBBHVtz5",
        "outputId": "533ff96e-1674-426d-a238-eeaa65e31a2f"
      },
      "execution_count": 1,
      "outputs": [
        {
          "output_type": "stream",
          "name": "stdout",
          "text": [
            "Ingrese la cantidad en dólares: $45\n",
            "Con la tasa de cambio de hoy su monto equivale a: \n",
            "$ 827.9999999999999 (Con tasa de 18.4 )\n",
            "€ 38.25 (Con tasa de 0.85 )\n",
            "£ 33.3 (Con tasa de 0.74 )\n",
            "¥ 320.4 (Con tasa de 7.12 )\n",
            "₽ 3699.9 (Con tasa de 82.22 )\n"
          ]
        }
      ]
    },
    {
      "cell_type": "markdown",
      "source": [
        "2.- Crea un programa que solicite al usuario dos números y realice las operaciones básicas como suma, resta, multiplicación, división, potenciación y raíz cuadrada. Muestra los resultados usando variables"
      ],
      "metadata": {
        "id": "HEUzRcQnfAJ_"
      }
    },
    {
      "cell_type": "code",
      "source": [
        "#EstablecerLosDatos\n",
        "num1=float(input('Ingera un número cualquiera:'))\n",
        "num2=float(input('Ingreso otro número cualquiera:'))\n",
        "#Operacion&MostarResultado\n",
        "  #OperacionesSinNingunProblema\n",
        "sum=num1+num2\n",
        "res=num1-num2\n",
        "mul=num1*num2\n",
        "print(num1,'+',num2,'=',sum)\n",
        "print(num1,'-',num2,'=',res)\n",
        "print(num1,'×',num2,'=',mul)\n",
        "try: #LineaParaCuandoLaDivisionEs0\n",
        "  div=num1/num2\n",
        "  print(num1,'÷',num2,'=',div)\n",
        "except ZeroDivisionError:\n",
        "  print('Division imposible')\n",
        "pot=num1**num2 #OperacionSinNingunProblema\n",
        "print(num1,'^ (',num2,') =',pot)\n",
        "try: #LineaParaCuandoLaRaizEs0\n",
        "  rai=num1**(1/num2)\n",
        "  print(num1,'√ (',num2,') =',rai)\n",
        "except ZeroDivisionError:\n",
        "  print('Raiz imposible')"
      ],
      "metadata": {
        "colab": {
          "base_uri": "https://localhost:8080/"
        },
        "id": "jF1gkvAMfGyF",
        "outputId": "948b9306-bf2a-40ad-dfcc-0dce9c579fae"
      },
      "execution_count": 2,
      "outputs": [
        {
          "output_type": "stream",
          "name": "stdout",
          "text": [
            "Ingera un número cualquiera:2\n",
            "Ingreso otro número cualquiera:6\n",
            "2.0 + 6.0 = 8.0\n",
            "2.0 - 6.0 = -4.0\n",
            "2.0 × 6.0 = 12.0\n",
            "2.0 ÷ 6.0 = 0.3333333333333333\n",
            "2.0 ^ ( 6.0 ) = 64.0\n",
            "2.0 √ ( 6.0 ) = 1.122462048309373\n"
          ]
        }
      ]
    },
    {
      "cell_type": "markdown",
      "source": [
        "3.- Desarrolla un programa que calcule el precio final de un producto después de aplicar un descuento. El usuario debe ingresar el precio original y el porcentaje de descuento. Utiliza variables para almacenar los valores."
      ],
      "metadata": {
        "id": "csQ6Fhxrqb6a"
      }
    },
    {
      "cell_type": "code",
      "source": [
        "#EstablecerLosDatos\n",
        "preBase=float(input('Ingrese el precio original: $'))\n",
        "des=float(input('Ingrese el descuento: %'))\n",
        "#Operaciones\n",
        "por=des/100\n",
        "desNum=preBase*por\n",
        "preFinal=preBase-desNum\n",
        "#MostrarResultados\n",
        "print('El producto de $',preBase,'con un descuento de',des,'%')\n",
        "print('Costara $',preFinal,'ahorrandote $',desNum)\n"
      ],
      "metadata": {
        "colab": {
          "base_uri": "https://localhost:8080/"
        },
        "id": "l34pjym3qhK_",
        "outputId": "074a3bcd-8b17-4f33-8d5e-7f911322728b"
      },
      "execution_count": 3,
      "outputs": [
        {
          "output_type": "stream",
          "name": "stdout",
          "text": [
            "Ingrese el precio original: $347\n",
            "Ingrese el descuento: %43\n",
            "El producto de $ 347.0 con un descuento de 43.0 %\n",
            "Costara $ 197.79 ahorrandote $ 149.21\n"
          ]
        }
      ]
    },
    {
      "cell_type": "markdown",
      "source": [
        "4.- Conversión de coordenadas y localización geográfica.\n",
        "\n",
        "Para cada uno de los siguientes pares de coordenadas (latitud, longitud), realiza lo siguiente usando solo variables (sin funciones definidas por ti, sin ciclos):\n",
        "\n",
        "a).- Guarda los valores de grados, minutos y segundos en variables separadas (por latitud y por longitud).\n",
        "\n",
        "b).- Convierte cada coordenada a grados decimales\n",
        "\n",
        "Imprime la latitud y longitud con su valor decimal. Redondee los valores a 3 decimales (si aplica)."
      ],
      "metadata": {
        "id": "k56UYC8j1vN2"
      }
    },
    {
      "cell_type": "code",
      "source": [
        "#DefinirLosValores\n",
        "Ah1=40\n",
        "Am1=41\n",
        "As1=21\n",
        "Ah2=48\n",
        "Am2=51\n",
        "As2=12\n",
        "Ah3=34\n",
        "Am3=3\n",
        "As3=8\n",
        "N=1\n",
        "S=-1\n",
        "Oh1=74\n",
        "Om1=2\n",
        "Os1=40\n",
        "Oh2=2\n",
        "Om2=20\n",
        "Os2=55\n",
        "Oh3=151\n",
        "Om3=12\n",
        "Os3=33\n",
        "#operacion\n",
        "DeciA1=(Ah1+Am1/60+As1/3600)*N\n",
        "DeciA2=(Ah2+Am2/60+As2/3600)*N\n",
        "DeciA3=(Ah3+Am3/60+As3/3600)*S\n",
        "DeciO1=(Oh1+Om1/60+Os1/3600)*S\n",
        "DeciO2=(Oh2+Om2/60+Os2/3600)*N\n",
        "DeciO3=(Oh3+Om3/60+Os3/3600)*N\n",
        "#MostrarResultado\n",
        "print('Latitud:',DeciA1,'Longitud',DeciO1)\n",
        "print('Latitud:',DeciA2,'Longitud',DeciO2)\n",
        "print('Latitud:',DeciA3,'Longitud',DeciO3)"
      ],
      "metadata": {
        "colab": {
          "base_uri": "https://localhost:8080/"
        },
        "id": "SKsdrj1B1uO8",
        "outputId": "76956ffe-422d-4ea1-ba6b-2c8cb734a879"
      },
      "execution_count": 4,
      "outputs": [
        {
          "output_type": "stream",
          "name": "stdout",
          "text": [
            "Latitud: 40.689166666666665 Longitud -74.04444444444444\n",
            "Latitud: 48.85333333333333 Longitud 2.3486111111111114\n",
            "Latitud: -34.05222222222222 Longitud 151.20916666666665\n"
          ]
        }
      ]
    },
    {
      "cell_type": "markdown",
      "source": [
        "5.- Un objeto de masa m=2 kg se encuentra a una altura h=10 cm y tiene una velocidad de v=3 m/s. Calcular:\n",
        "\n",
        "a) La energía cinética (Ec),\n",
        "\n",
        "b) La energía potencial gravitacional (Ep),\n",
        "\n",
        "c) La energía mecánica total (Em).\n",
        "\n",
        "Considere g=9.8m/s^2. Revise las unidades."
      ],
      "metadata": {
        "id": "WwP3b8iCJjRr"
      }
    },
    {
      "cell_type": "code",
      "source": [
        "#DefinirLosValores\n",
        "m=2\n",
        "h=0.1\n",
        "v=3\n",
        "g=9.8\n",
        "#Operaciones\n",
        "Ec=(m*v**2)/2\n",
        "Ep=m*g*h\n",
        "Em=Ec+Ep\n",
        "#MostrarResultados\n",
        "print('La Energía Cinética (Ec) es:',Ec)\n",
        "print('La Energía Potencial gravitacional (Ep) es:',Ep)\n",
        "print('La Energía Mecánica total (Em) es:',Em)"
      ],
      "metadata": {
        "colab": {
          "base_uri": "https://localhost:8080/"
        },
        "id": "RCziQk3RJwlv",
        "outputId": "581052df-fb63-432e-a9fc-eeead380a5eb"
      },
      "execution_count": 5,
      "outputs": [
        {
          "output_type": "stream",
          "name": "stdout",
          "text": [
            "La Energía Cinética (Ec) es: 9.0\n",
            "La Energía Potencial gravitacional (Ep) es: 1.9600000000000002\n",
            "La Energía Mecánica total (Em) es: 10.96\n"
          ]
        }
      ]
    },
    {
      "cell_type": "markdown",
      "source": [
        "6.- Escribe un programa que pida un número entero y determine si es par o impar utilizando la sentencia if-elif-else. Si el valor ingresado no es un entero válido, el programa debe indicarlo y que vuelva a ejecutar el programa."
      ],
      "metadata": {
        "id": "vzW-6wIheBRP"
      }
    },
    {
      "cell_type": "code",
      "source": [
        "#EstablcerLosDatos\n",
        "try:\n",
        "  x=int(input('Ingresa un valor: '))\n",
        "  #Definirmultiplo\n",
        "  xres= x % 2\n",
        "  #Operaciones\n",
        "  if xres == 0:\n",
        "    print('El número es par')\n",
        "  else:\n",
        "    print('El número es impar')\n",
        "#LineaParaUnValorIncorrecto\n",
        "except ValueError:\n",
        "  print('Número no valido')\n"
      ],
      "metadata": {
        "id": "ElgCcwESeCJo",
        "colab": {
          "base_uri": "https://localhost:8080/"
        },
        "outputId": "d65c7a8f-1d87-46c7-bcd7-130dc97cd720"
      },
      "execution_count": 6,
      "outputs": [
        {
          "output_type": "stream",
          "name": "stdout",
          "text": [
            "Ingresa un valor: 2\n",
            "El número es par\n"
          ]
        }
      ]
    },
    {
      "cell_type": "markdown",
      "source": [
        "7.- Tipo de triángulo.\n",
        "\n",
        "Solicite al usuario que ingrese los valores de los lados de un triángulo (enteros positivos) y realice lo siguiente:\n",
        "\n",
        "a).- Valide que formen un triángulo (desigualdad triangular).\n",
        "\n",
        "b).- Si forman un triángulo, indica si es equilátero, isosceles o escaleno."
      ],
      "metadata": {
        "id": "29zj47UbN_70"
      }
    },
    {
      "cell_type": "code",
      "source": [
        "#EstablecerLosValores\n",
        "a=float(input('Ingresa el valor de un lado a: '))\n",
        "b=float(input('Ingresa el valor de un lado b: '))\n",
        "c=float(input('Ingresa el valor de un lado c: '))\n",
        "#Operaciones\n",
        "if a < (b+c) and b < (a+c) and c < (a+b): #LineaParaElInciso.a)\n",
        "#LineasParaElInciso.b)\n",
        "  if a == b and b == c : #PorElAxioma.a=b&b=c.ent.a=c\n",
        "    print('El Triángulo es Equilátero')\n",
        "  elif a == b or b == c or c == a:\n",
        "    print('El Triángulo es Isósceles')\n",
        "  else:\n",
        "    print('El Triángulo es Escaleno')\n",
        "#LineaParaAcabarConElInciso.a)\n",
        "else:\n",
        "  print('El Triángulo no es real')\n"
      ],
      "metadata": {
        "colab": {
          "base_uri": "https://localhost:8080/"
        },
        "id": "PaovAP-FWDOB",
        "outputId": "31182021-b1f6-43a1-cba6-06f52e620019"
      },
      "execution_count": 7,
      "outputs": [
        {
          "output_type": "stream",
          "name": "stdout",
          "text": [
            "Ingresa el valor de un lado a: 6\n",
            "Ingresa el valor de un lado b: 5\n",
            "Ingresa el valor de un lado c: 8\n",
            "El Triángulo es Escaleno\n"
          ]
        }
      ]
    },
    {
      "cell_type": "markdown",
      "source": [
        "8.- Crea un script en Python que determine cuál de tres números introducidos por el usuario es el mayor, usando sentencias IF anidadas o múltiples ELIF."
      ],
      "metadata": {
        "id": "6Du0Bqphd3eS"
      }
    },
    {
      "cell_type": "code",
      "source": [
        "#EstablecerLosDatos\n",
        "uno=float(input('Asigna un valor: '))\n",
        "dos=float(input('Asigna otro valor: '))\n",
        "tres=float(input('Asigna un valor más: '))\n",
        "#Operaciones\n",
        "if uno < tres and dos < tres :\n",
        "  print(tres,('es el número mayor'))\n",
        "elif tres < dos and uno < dos :\n",
        "  print(dos,'es el número mayor')\n",
        "elif dos < uno and tres < uno :\n",
        "  print(uno,'es el número mayor')\n",
        "elif uno == dos and dos == tres :\n",
        "  print('Los tres números son iguales')\n",
        "elif uno == dos :\n",
        "  print(uno,'es el número mayor')\n",
        "elif uno == tres :\n",
        "  print(uno,'es el número mayor')\n",
        "elif dos == tres :\n",
        "  print(dos,'es el número mayor')"
      ],
      "metadata": {
        "id": "qV0R07I_d4oc",
        "colab": {
          "base_uri": "https://localhost:8080/"
        },
        "outputId": "cf3a7a50-2a88-42b0-f493-de6f43b1f909"
      },
      "execution_count": 8,
      "outputs": [
        {
          "output_type": "stream",
          "name": "stdout",
          "text": [
            "Asigna un valor: 13\n",
            "Asigna otro valor: 25\n",
            "Asigna un valor más: 46\n",
            "46.0 es el número mayor\n"
          ]
        }
      ]
    },
    {
      "cell_type": "markdown",
      "source": [
        "9.- Programe un script en Python que determine si dos rectas dadas por las ecuaciones y1=m1x + b1 y y2=m2x+b2 se intersectan, son paralelas o coincidentes. Utilice estructuras de control (IF - ELSE) para manejar los diferentes casos."
      ],
      "metadata": {
        "id": "iTiBuppwtR5B"
      }
    },
    {
      "cell_type": "code",
      "source": [
        "#EstablecerLosDatosDeRecta1\n",
        "print('Recta 1')\n",
        "m1=float(input('¿Cuál es la pendiente? '))\n",
        "b1=float(input('¿Cuál es la intersección en y? '))\n",
        "#EstablecerLosDatosDeRecta2\n",
        "print('Recta 2')\n",
        "m2=float(input('¿Cuál es la pendiente? '))\n",
        "b2=float(input('¿Cuál es la intersección en y? '))\n",
        "#Operaciones\n",
        "if m1 == m2 and b1 != b2 :\n",
        "  print('Las rectas son paralelas')\n",
        "elif m1 == m2 and b1 == b2 :\n",
        "  print('Las rectas coinciden')\n",
        "else:\n",
        "  print('Las rectas se intersectan')"
      ],
      "metadata": {
        "colab": {
          "base_uri": "https://localhost:8080/"
        },
        "id": "eo25IdbBtXzT",
        "outputId": "8f85cf21-4d41-4ebd-80e4-fc5dea3e6d3f"
      },
      "execution_count": 9,
      "outputs": [
        {
          "output_type": "stream",
          "name": "stdout",
          "text": [
            "Recta 1\n",
            "¿Cuál es la pendiente? 3\n",
            "¿Cuál es la intersección en y? 5\n",
            "Recta 2\n",
            "¿Cuál es la pendiente? 5\n",
            "¿Cuál es la intersección en y? 5\n",
            "Las rectas se intersectan\n"
          ]
        }
      ]
    },
    {
      "cell_type": "markdown",
      "source": [
        "10.- Escriba un programa que solicite al usuario un año y que el programa indique si es bisiesto o no. Recuerde, los años bisiestos son múltiplos de 4, no es el caso para los múltiplos de 100, pero si para los múltiplos de 400."
      ],
      "metadata": {
        "id": "gGQAegpfwkgv"
      }
    },
    {
      "cell_type": "code",
      "source": [
        "#EstablecerLosDatos\n",
        "try:\n",
        "  año=int(input('Escribe un año cualquiera: '))\n",
        "  #Definirmultiplo\n",
        "  año400=año % 400\n",
        "  año100=año % 100\n",
        "  añoBi=año % 4\n",
        "  #Operaciones\n",
        "  if año400 == 0 :\n",
        "    print('El año es bisiesto')\n",
        "  elif año100 == 0 :\n",
        "    print('El año no es bisiesto')\n",
        "  elif añoBi == 0 :\n",
        "    print('El año es bisiesto')\n",
        "  else:\n",
        "    print('El año no es bisiesto')\n",
        "#LineaParaUnAñoImposible\n",
        "except ValueError:\n",
        "  print('Año no valido')\n"
      ],
      "metadata": {
        "colab": {
          "base_uri": "https://localhost:8080/"
        },
        "id": "XNNRJWgrxlP4",
        "outputId": "ce944dc3-9152-43db-8e9f-3702546cd82d"
      },
      "execution_count": 10,
      "outputs": [
        {
          "output_type": "stream",
          "name": "stdout",
          "text": [
            "Escribe un año cualquiera: 2020\n",
            "El año es bisiesto\n"
          ]
        }
      ]
    }
  ]
}