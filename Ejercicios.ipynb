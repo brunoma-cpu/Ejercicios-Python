{
  "nbformat": 4,
  "nbformat_minor": 0,
  "metadata": {
    "colab": {
      "provenance": [],
      "authorship_tag": "ABX9TyNBEPes9OYQCpVmVpPIOwv9",
      "include_colab_link": true
    },
    "kernelspec": {
      "name": "python3",
      "display_name": "Python 3"
    },
    "language_info": {
      "name": "python"
    }
  },
  "cells": [
    {
      "cell_type": "markdown",
      "metadata": {
        "id": "view-in-github",
        "colab_type": "text"
      },
      "source": [
        "<a href=\"https://colab.research.google.com/github/brunoma-cpu/Ejercicios-Python/blob/main/Ejercicios.ipynb\" target=\"_parent\"><img src=\"https://colab.research.google.com/assets/colab-badge.svg\" alt=\"Open In Colab\"/></a>"
      ]
    },
    {
      "cell_type": "markdown",
      "source": [
        "# Ejercicios\n",
        "1. **Serie de Fourier (período *T* ):**\n",
        "\\\\begin{equation}\\textrm{f(t)}=\\frac{a_{0}}{2}+\\sum_{n=1}^{\\infty}\\left [ a_{n}\\cos(\\frac{2\\pi n}{T}t)+b_{n}\\sin(\\frac{2\\pi n}{T}t) \\right ]\\end{equation}\n",
        "2. **Matriz alterada** 3 x 3 **(ejemplo numérico)**\n",
        "\\\\begin{equation}A=\\begin{pmatrix}\n",
        "0.42 & -1.07 & 2.31 \\\\\n",
        "-0.85 & 0.19 & 0.73 \\\\\n",
        "1.58 & -0.66 & -0.12 \\\\\n",
        "\\end{pmatrix} \\end{equation}\n",
        "3. **Ecuación de onda 3D**\n",
        "\\\\begin{equation}\\frac{\\partial ^{2}u}{\\partial t^{2}}=c^{2}\\left (\\frac{\\partial ^{2}u}{\\partial x^{2}}+ \\frac{\\partial ^{2}u}{\\partial y^{2}} + \\frac{\\partial ^{2}u}{\\partial z^{2}}\n",
        "\\right )\\end{equation}\n",
        "4. **Fórmula de Haversine (latitudes ϕ, longitudes λ en radianes):**\n",
        "\\\\begin{equation} d=2R \\arcsin\\left[  \\sqrt{\\sin^{2}\\left ( \\frac{\\varphi _{2}-\\varphi _{1}}{2} \\right ) +\\cos \\varphi _{1} \\cos \\varphi_{2} \\sin^{2} \\left ( \\frac{\\lambda _{2}-\\lambda _{1}}{2} \\right )} \\right ]\\end{equation}"
      ],
      "metadata": {
        "id": "Kqs0_S14kJir"
      }
    },
    {
      "cell_type": "markdown",
      "source": [
        "# Ejercicio: Fórmula de Herón de Alejandría\n",
        "\n",
        "Dado un triángulo con lados de longitudes\n",
        "a = 7, b = 8 y c = 9, escriba un\n",
        "programa en Python que calcule e\n",
        "imprima el  área del triángulo utilizando la\n",
        "fórmula de Herón, donde\n",
        "1. El semiperímetro s está dado por:\n",
        "\\\\begin{equation}\n",
        "s=\\frac{a+b+c}{2}\n",
        "\\end{equation}\n",
        "2. El área se define de la siguiente manera:\n",
        "\\\\begin{equation}\n",
        "A=\\sqrt{s(s-a)(s-b)(s-c)}\n",
        "\\end{equation}"
      ],
      "metadata": {
        "id": "KQOcWHPtv2m5"
      }
    },
    {
      "cell_type": "code",
      "source": [
        "a=7\n",
        "b=8\n",
        "c=9\n",
        "s=float(a+b+c/2)\n",
        "print('El semiperímetro es:', s)\n",
        "u=float((s*(s-a)*(s-b)*(s-c))**(1/2))\n",
        "print('El área es:', u)"
      ],
      "metadata": {
        "colab": {
          "base_uri": "https://localhost:8080/"
        },
        "id": "qvBIw4hDyYoN",
        "outputId": "f9ebba5b-c62a-449e-bd3b-12594aaab073"
      },
      "execution_count": 12,
      "outputs": [
        {
          "output_type": "stream",
          "name": "stdout",
          "text": [
            "El semiperímetro es: 19.5\n",
            "El área es: 171.55993850546812\n"
          ]
        }
      ]
    },
    {
      "cell_type": "markdown",
      "source": [
        "# Ejercicio: Ecuaciones de segundo grado\n",
        "**Ejercicios de polinomios**\n",
        "1.  Resuelve las siguientes ecuaciones cuadráticas aplicando la fórmula general.\n",
        "\\\\begin{equation}\n",
        "x^{2}-5x+6=0\n",
        "\\end{equation}\n",
        "\\\\begin{equation}\n",
        "x^{2}+4x+13=0\n",
        "\\end{equation}"
      ],
      "metadata": {
        "id": "7lRqHC--1J5O"
      }
    },
    {
      "cell_type": "code",
      "source": [
        "A=1\n",
        "B=-5\n",
        "C=6\n",
        "x=-B+(B**2-4*A*C)**(1/2)/(2*A)\n",
        "X=-B-(B**2-4*A*C)**(1/2)/(2*A)\n",
        "print('Los resultados son:', x,'y', X)\n"
      ],
      "metadata": {
        "colab": {
          "base_uri": "https://localhost:8080/"
        },
        "id": "XeaSeIDK32uW",
        "outputId": "3dee4eb6-d5f8-4d0d-f59d-0cfadcbfc780"
      },
      "execution_count": 15,
      "outputs": [
        {
          "output_type": "stream",
          "name": "stdout",
          "text": [
            "Los resultados son: 5.5 y 4.5\n"
          ]
        }
      ]
    },
    {
      "cell_type": "code",
      "source": [
        "A=1\n",
        "B=4\n",
        "C=13\n",
        "x=-B+(B**2-4*A*C)**(1/2)/(2*A)\n",
        "X=-B-(B**2-4*A*C)**(1/2)/(2*A)\n",
        "print('Los resultados son:', x,'y', X)"
      ],
      "metadata": {
        "colab": {
          "base_uri": "https://localhost:8080/"
        },
        "id": "vi-hNlSJBcdj",
        "outputId": "31266e97-ab09-4b73-f11d-1790a825cd8a"
      },
      "execution_count": 16,
      "outputs": [
        {
          "output_type": "stream",
          "name": "stdout",
          "text": [
            "Los resultados son: (-4+3j) y (-4-3j)\n"
          ]
        }
      ]
    }
  ]
}