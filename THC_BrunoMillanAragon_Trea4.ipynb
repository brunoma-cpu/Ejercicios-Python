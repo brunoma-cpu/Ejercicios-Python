{
  "nbformat": 4,
  "nbformat_minor": 0,
  "metadata": {
    "colab": {
      "provenance": [],
      "authorship_tag": "ABX9TyPXvJ2pIdBSn43wZlawdhpK",
      "include_colab_link": true
    },
    "kernelspec": {
      "name": "python3",
      "display_name": "Python 3"
    },
    "language_info": {
      "name": "python"
    }
  },
  "cells": [
    {
      "cell_type": "markdown",
      "metadata": {
        "id": "view-in-github",
        "colab_type": "text"
      },
      "source": [
        "<a href=\"https://colab.research.google.com/github/brunoma-cpu/Ejercicios-Python/blob/main/THC_BrunoMillanAragon_Trea4.ipynb\" target=\"_parent\"><img src=\"https://colab.research.google.com/assets/colab-badge.svg\" alt=\"Open In Colab\"/></a>"
      ]
    },
    {
      "cell_type": "code",
      "execution_count": 50,
      "metadata": {
        "colab": {
          "base_uri": "https://localhost:8080/"
        },
        "id": "iGC7609oVdPW",
        "outputId": "c05d117d-2471-45d3-a724-7dd3d25a3c14"
      },
      "outputs": [
        {
          "output_type": "stream",
          "name": "stdout",
          "text": [
            "Escribe los valores de los lados (no se acceptan negativo)\n",
            "Valor del lado a: 3\n",
            "Valor del lado b: 4\n",
            "Valor del lado c: 5\n",
            "El área del triángulo A es  6.0\n"
          ]
        }
      ],
      "source": [
        "#DefinirLosValoresAntesDeLaFuncionPorPrecaucion\n",
        "a=0\n",
        "b=0\n",
        "c=0\n",
        "#LaFuncionParaEstablecerElInput&PoderRegresarSiNoCumpleLasCondiciones\n",
        "def funcionVal():\n",
        "  #PrintParaQueSeVeaBonito\n",
        "  print('Escribe los valores de los lados (no se acceptan negativo)')\n",
        "  #EstablecerLosValoresComoGLobalesParaQueConservenElValorDelInput\n",
        "  global a\n",
        "  global b\n",
        "  global c\n",
        "  #EstablecerLosValores\n",
        "  a=float(input('Valor del lado a: '))\n",
        "  b=float(input('Valor del lado b: '))\n",
        "  c=float(input('Valor del lado c: '))\n",
        "  #CicloParaQueVuelvaA.PedirValoresSiSonNegativos\n",
        "  while a or b or c < 0:\n",
        "    if a < 0:\n",
        "      a=float(input('No Intenta otra vez el lado a: '))\n",
        "    elif b < 0:\n",
        "      b=float(input('Intenta otra vez el lado b: '))\n",
        "    elif c < 0:\n",
        "      c=float(input('Intenta otra vez el lado c: '))\n",
        "    else:\n",
        "      break\n",
        "\n",
        "#FuncionParaSacarElÁreaDelTriangulo\n",
        "def funcionTri(nombre):\n",
        "  #ParteParaVerSiElTriánguloEsVerdadero\n",
        "  if a < (b+c) and b < (a+c) and c < (a+b):\n",
        "  #'S'&'A'SonValoresLocalesQueSóloSeUtilizanParaEstáFunción&SonLasOperaciones\n",
        "    S=(a+b+c)/2\n",
        "    A=(S*(S-a)*(S-b)*(S-c))**(1/2)\n",
        "  #MostrarResultadosConUnArgumentoSiElNombreDelTrianguloEsDeUnaManeraEspecífica\n",
        "    print('El área del triángulo '+nombre+ ' es ',A)\n",
        "  #ElseSiElTriánguloNoPuedeSerVerdadero\n",
        "  else:\n",
        "    print('No es un triángulo real')\n",
        "\n",
        "#LlamarA.LasFunciones\n",
        "funcionVal()\n",
        "funcionTri(\"A\")\n"
      ]
    }
  ]
}