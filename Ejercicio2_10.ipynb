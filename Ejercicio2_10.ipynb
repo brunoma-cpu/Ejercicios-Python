{
  "nbformat": 4,
  "nbformat_minor": 0,
  "metadata": {
    "colab": {
      "provenance": [],
      "authorship_tag": "ABX9TyMs4YJ+gden+jblcA8vXJat",
      "include_colab_link": true
    },
    "kernelspec": {
      "name": "python3",
      "display_name": "Python 3"
    },
    "language_info": {
      "name": "python"
    }
  },
  "cells": [
    {
      "cell_type": "markdown",
      "metadata": {
        "id": "view-in-github",
        "colab_type": "text"
      },
      "source": [
        "<a href=\"https://colab.research.google.com/github/brunoma-cpu/Ejercicios-Python/blob/main/Ejercicio2_10.ipynb\" target=\"_parent\"><img src=\"https://colab.research.google.com/assets/colab-badge.svg\" alt=\"Open In Colab\"/></a>"
      ]
    },
    {
      "cell_type": "code",
      "execution_count": null,
      "metadata": {
        "colab": {
          "base_uri": "https://localhost:8080/"
        },
        "id": "L1kXJeUXJWd3",
        "outputId": "82da4d4e-5433-4aaa-efc2-395118417672"
      },
      "outputs": [
        {
          "output_type": "stream",
          "name": "stdout",
          "text": [
            "510065621724078.94 510064471909788.25\n",
            "La diferencia es de  1149814290.6875\n"
          ]
        }
      ],
      "source": [
        "import math\n",
        "#elipsoide\n",
        "a=6378137\n",
        "c=6356752.314245\n",
        "e=(1-(c**2/a**2))**0.5\n",
        "Sobl=2*math.pi*a**2*(1+((1-(e**2))/e)*math.atanh(e))\n",
        "#esfera\n",
        "r=6371000\n",
        "Aesf=4*math.pi*(r**2)\n",
        "#comparacion\n",
        "dif=Sobl-Aesf\n",
        "print(Sobl,Aesf)\n",
        "print(\"La diferencia es de \",dif)"
      ]
    },
    {
      "cell_type": "code",
      "source": [
        "a=int(input('ingrese dato '))\n",
        "\n",
        "if a < 0:\n",
        "  print('ingresa de nuevo el valor')\n",
        "elif a < 12:\n",
        "  print('niño')\n",
        "elif a < 18:\n",
        "  print('adolecente')\n",
        "elif a < 29:\n",
        "  print('joven')\n",
        "elif a < 64:\n",
        "  print('adulto')\n",
        "else:\n",
        "  print('adulto mayor')"
      ],
      "metadata": {
        "colab": {
          "base_uri": "https://localhost:8080/"
        },
        "id": "Cbq1aQS1ZAfP",
        "outputId": "034d5371-b010-4f90-d2ea-f80a8af8d434"
      },
      "execution_count": 1,
      "outputs": [
        {
          "output_type": "stream",
          "name": "stdout",
          "text": [
            "ingrese dato 54\n",
            "adulto\n"
          ]
        }
      ]
    }
  ]
}